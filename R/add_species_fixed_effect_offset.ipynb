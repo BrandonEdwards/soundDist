{
 "cells": [
  {
   "cell_type": "code",
   "execution_count": 20,
   "id": "b4b125a1-3f59-4f3e-967d-14575ca0e043",
   "metadata": {},
   "outputs": [],
   "source": [
    "import pandas as pd"
   ]
  },
  {
   "cell_type": "code",
   "execution_count": 21,
   "id": "af1442f1-a91d-4e07-9c48-8ba0256b0a4a",
   "metadata": {},
   "outputs": [],
   "source": [
    "spp_coef_dict = {\n",
    "    'Catharus guttatus':0.0007019,\n",
    "    'Contopus virens':0.0003437,\n",
    "    'Hylocichla mustelina':0.0003286,\n",
    "    'Mniotilta varia':0.0006987,\n",
    "    'Pipilo erythrophthalmus':0.0003263,\n",
    "    'Piranga olivacea':0.0002674,\n",
    "    'Seiurus aurocapilla':0.0006148,\n",
    "    'Setophaga citrina':0.0005003,\n",
    "    'Setophaga pensylvanica':0.0005298,\n",
    "    'Setophaga virens':0.0005390,\n",
    "    'Vireo solitarius':0.0002910\n",
    "}"
   ]
  },
  {
   "cell_type": "code",
   "execution_count": 22,
   "id": "84b0825e-f3c3-4d84-bf58-3f9f99c86d35",
   "metadata": {},
   "outputs": [],
   "source": [
    "def translate_to_coef(x):\n",
    "    try:\n",
    "        return spp_coef_dict[x]\n",
    "    except:\n",
    "        return 0\n",
    "df = pd.read_csv(\"../metadata/localized_clips_with_decibel.csv\")\n",
    "df['species_fixed_effect_offset'] = df.class_name.apply(translate_to_coef)\n"
   ]
  },
  {
   "cell_type": "code",
   "execution_count": 23,
   "id": "aac75bc2-3571-404f-9cab-8c68ae1d4b79",
   "metadata": {},
   "outputs": [],
   "source": [
    "df.to_csv(\"../metadata/prediction_df.csv\")"
   ]
  }
 ],
 "metadata": {
  "kernelspec": {
   "display_name": "Python 3 (ipykernel)",
   "language": "python",
   "name": "python3"
  },
  "language_info": {
   "codemirror_mode": {
    "name": "ipython",
    "version": 3
   },
   "file_extension": ".py",
   "mimetype": "text/x-python",
   "name": "python",
   "nbconvert_exporter": "python",
   "pygments_lexer": "ipython3",
   "version": "3.8.5"
  }
 },
 "nbformat": 4,
 "nbformat_minor": 5
}
